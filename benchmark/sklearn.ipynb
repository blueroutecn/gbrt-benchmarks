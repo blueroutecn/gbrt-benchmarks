{
 "cells": [
  {
   "cell_type": "code",
   "execution_count": 1,
   "metadata": {
    "collapsed": true
   },
   "outputs": [],
   "source": [
    "from __future__ import print_function"
   ]
  },
  {
   "cell_type": "markdown",
   "metadata": {},
   "source": [
    "### Caching"
   ]
  },
  {
   "cell_type": "markdown",
   "metadata": {},
   "source": [
    "This function perform benchmark for a set of parameter. This is cache on the disk"
   ]
  },
  {
   "cell_type": "code",
   "execution_count": 12,
   "metadata": {
    "collapsed": true
   },
   "outputs": [],
   "source": [
    "from datetime import datetime\n",
    "\n",
    "import joblib\n",
    "\n",
    "import numpy as np\n",
    "from sklearn.ensemble import GradientBoostingClassifier\n",
    "\n",
    "memory = joblib.Memory(cachedir='../cache', verbose=10)\n",
    "\n",
    "@memory.cache\n",
    "def bench_sklearn(X, y, T, valid, **params):\n",
    "    \"\"\"Execute the gradient boosting pipeline\"\"\"\n",
    "\n",
    "    # Create the data matrix\n",
    "    start_data_t = datetime.now()\n",
    "    clf = GradientBoostingClassifier()\n",
    "    clf.set_params(**params)\n",
    "    end_data_t = datetime.now() - start_data_t\n",
    "    start_fit_t = datetime.now()\n",
    "    clf.fit(X, y)\n",
    "    end_fit_t = datetime.now() - start_fit_t\n",
    "\n",
    "    score_training = np.mean(clf.predict(X) == y)\n",
    "    score_testing = np.mean(clf.predict(T) == valid)\n",
    "\n",
    "    return {'score_training': score_training,\n",
    "            'score_testing': score_testing,\n",
    "            'time_data': end_data_t,\n",
    "            'time_fit': end_fit_t}"
   ]
  },
  {
   "cell_type": "markdown",
   "metadata": {},
   "source": [
    "## Scikit-learn on Higgs dataset"
   ]
  },
  {
   "cell_type": "markdown",
   "metadata": {},
   "source": [
    "### No presorting"
   ]
  },
  {
   "cell_type": "code",
   "execution_count": 13,
   "metadata": {},
   "outputs": [
    {
     "name": "stdout",
     "output_type": "stream",
     "text": [
      "{'n_estimators': [1], 'max_depth': [3, 5, 8], 'max_features': [1.0], 'presort': [False], 'random_state': [42]}\n"
     ]
    }
   ],
   "source": [
    "import yaml\n",
    "configuration_path = \"../params_benchmark/parameters_higgs.conf\"\n",
    "config_name = 'sklearn-master-nopresort'\n",
    "with open(configuration_path, 'r') as stream:\n",
    "    params = yaml.load(stream)[config_name]\n",
    "\n",
    "params = {key: (value if isinstance(value, list) else [value])\n",
    "          for key, value in params.items()}\n",
    "\n",
    "print(params)"
   ]
  },
  {
   "cell_type": "code",
   "execution_count": 14,
   "metadata": {
    "collapsed": true
   },
   "outputs": [],
   "source": [
    "from sklearn.model_selection import ParameterGrid\n",
    "params_grid = list(ParameterGrid(params))"
   ]
  },
  {
   "cell_type": "code",
   "execution_count": 15,
   "metadata": {},
   "outputs": [
    {
     "name": "stdout",
     "output_type": "stream",
     "text": [
      "[Memory]  474.6s, 7.9min: Loading load_higgs from /home/glemaitre/scikit_learn_data/higgs_benchmark_data/joblib/misc/load_higgs/3034b65fbc56ad5acf012d3c20d7f04a\n",
      "__________________________________________load_higgs cache loaded - 0.0s, 0.0min\n"
     ]
    }
   ],
   "source": [
    "import sys\n",
    "sys.path.insert(0, '../datasets')\n",
    "from misc import load_higgs\n",
    "\n",
    "N_SAMPLES = 1e7\n",
    "data = load_higgs(random_state=42, n_samples=int(N_SAMPLES))"
   ]
  },
  {
   "cell_type": "code",
   "execution_count": 16,
   "metadata": {},
   "outputs": [
    {
     "name": "stderr",
     "output_type": "stream",
     "text": [
      "WARNING:root:[MemorizedFunc(func=<function bench_sklearn at 0x7f561acb7e18>, cachedir='../cache/joblib')]: Clearing cache ../cache/joblib/__main__--home-glemaitre-Documents-work-code-gbrt-benchmarks-benchmark-__ipython-input__/bench_sklearn\n"
     ]
    },
    {
     "name": "stdout",
     "output_type": "stream",
     "text": [
      "________________________________________________________________________________\n",
      "[Memory] Calling __main__--home-glemaitre-Documents-work-code-gbrt-benchmarks-benchmark-__ipython-input__.bench_sklearn...\n",
      "bench_sklearn(memmap([[ 1.757253, ...,  1.467264],\n",
      "        ..., \n",
      "        [ 1.880784, ...,  0.950771]], dtype=float32), \n",
      "memmap([1, ..., 0]), memmap([[ 2.089598, ...,  1.037894],\n",
      "        ..., \n",
      "        [ 0.464477, ...,  0.51742 ]], dtype=float32), \n",
      "memmap([1, ..., 1]), max_depth=3, max_features=1.0, n_estimators=1, presort=False, random_state=42)\n",
      "__________________________________________________bench_sklearn - 163.8s, 2.7min\n",
      "________________________________________________________________________________\n",
      "[Memory] Calling __main__--home-glemaitre-Documents-work-code-gbrt-benchmarks-benchmark-__ipython-input__.bench_sklearn...\n",
      "bench_sklearn(memmap([[ 1.757253, ...,  1.467264],\n",
      "        ..., \n",
      "        [ 1.880784, ...,  0.950771]], dtype=float32), \n",
      "memmap([1, ..., 0]), memmap([[ 2.089598, ...,  1.037894],\n",
      "        ..., \n",
      "        [ 0.464477, ...,  0.51742 ]], dtype=float32), \n",
      "memmap([1, ..., 1]), max_depth=5, max_features=1.0, n_estimators=1, presort=False, random_state=42)\n",
      "__________________________________________________bench_sklearn - 226.6s, 3.8min\n",
      "________________________________________________________________________________\n",
      "[Memory] Calling __main__--home-glemaitre-Documents-work-code-gbrt-benchmarks-benchmark-__ipython-input__.bench_sklearn...\n",
      "bench_sklearn(memmap([[ 1.757253, ...,  1.467264],\n",
      "        ..., \n",
      "        [ 1.880784, ...,  0.950771]], dtype=float32), \n",
      "memmap([1, ..., 0]), memmap([[ 2.089598, ...,  1.037894],\n",
      "        ..., \n",
      "        [ 0.464477, ...,  0.51742 ]], dtype=float32), \n",
      "memmap([1, ..., 1]), max_depth=8, max_features=1.0, n_estimators=1, presort=False, random_state=42)\n",
      "__________________________________________________bench_sklearn - 346.0s, 5.8min\n"
     ]
    }
   ],
   "source": [
    "results = []\n",
    "for p in params_grid:\n",
    "    bench_results = bench_sklearn(*data, **p)\n",
    "    bench_results.update({'n_samples': data[0].shape[0]})\n",
    "    bench_results.update(p)\n",
    "    results.append(bench_results)"
   ]
  },
  {
   "cell_type": "code",
   "execution_count": 17,
   "metadata": {
    "collapsed": true
   },
   "outputs": [],
   "source": [
    "import pandas as pd\n",
    "df = pd.DataFrame(results)\n",
    "df.to_pickle('../results/sklearn_master_nopresort.pkl')"
   ]
  },
  {
   "cell_type": "code",
   "execution_count": null,
   "metadata": {
    "collapsed": true
   },
   "outputs": [],
   "source": []
  }
 ],
 "metadata": {
  "kernelspec": {
   "display_name": "Python 3",
   "language": "python",
   "name": "python3"
  },
  "language_info": {
   "codemirror_mode": {
    "name": "ipython",
    "version": 3
   },
   "file_extension": ".py",
   "mimetype": "text/x-python",
   "name": "python",
   "nbconvert_exporter": "python",
   "pygments_lexer": "ipython3",
   "version": "3.6.2"
  }
 },
 "nbformat": 4,
 "nbformat_minor": 2
}
