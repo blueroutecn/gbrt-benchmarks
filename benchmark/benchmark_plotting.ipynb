{
 "cells": [
  {
   "cell_type": "code",
   "execution_count": 23,
   "metadata": {},
   "outputs": [],
   "source": [
    "import pandas as pd\n",
    "import matplotlib.pyplot as plt\n",
    "%matplotlib inline"
   ]
  },
  {
   "cell_type": "code",
   "execution_count": 24,
   "metadata": {
    "collapsed": true
   },
   "outputs": [],
   "source": [
    "df_xgboost_exact = pd.read_pickle('../results/xgboost_exact.pkl')\n",
    "df_xgboost_exact_cache = pd.read_pickle('../results/xgboost_exact_cache.pkl')\n",
    "df_xgboost_fast_hist = pd.read_pickle('../results/xgboost_fast_hist.pkl')\n",
    "df_xgboost = pd.concat((df_xgboost_exact, df_xgboost_exact_cache, df_xgboost_fast_hist))\n",
    "df_lightgbm = pd.read_pickle('../results/lightgbm.pkl')\n",
    "df_sklearn = pd.read_pickle('../results/sklearn_master_nopresort.pkl')"
   ]
  },
  {
   "cell_type": "markdown",
   "metadata": {},
   "source": [
    "This is a trick to make easy plot. See with Joris how to manage that."
   ]
  },
  {
   "cell_type": "code",
   "execution_count": 26,
   "metadata": {},
   "outputs": [],
   "source": [
    "df_xgboost.loc[df_xgboost['tree_method'] == 'exact', 'tree_method'] = 'xgboost-exact'\n",
    "df_xgboost.loc[df_xgboost['tree_method'] == 'hist', 'tree_method'] = 'xgboost-fast-hist'\n",
    "df_lightgbm.loc[df_lightgbm['boosting'] == 'gbdt', 'boosting'] = 'lightgbm'\n",
    "df_sklearn.loc[df_sklearn['presort'] == False, 'presort'] = 'sklearn-nopresort'"
   ]
  },
  {
   "cell_type": "code",
   "execution_count": 27,
   "metadata": {},
   "outputs": [
    {
     "data": {
      "image/png": "[encoded data removed]",
      "text/plain": [
       "<matplotlib.figure.Figure at 0x7f17404f3f60>"
      ]
     },
     "metadata": {},
     "output_type": "display_data"
    }
   ],
   "source": [
    "f, axs = plt.subplots(1, 3, sharey=True, figsize=(25, 6))\n",
    "\n",
    "df_sklearn_group = df_sklearn.set_index('presort').groupby(['max_depth'])\n",
    "df_xgboost_group = df_xgboost.set_index('tree_method').groupby(['max_depth'])\n",
    "df_lightgbm_group = df_lightgbm.set_index('boosting').groupby(['max_depth'])\n",
    "for ax, (i, group_xgboost), (j, group_lightgbm), (h, group_sklearn) in zip(axs, df_xgboost_group, df_lightgbm_group, df_sklearn_group):\n",
    "    timing_xgboost = group_xgboost[['time_data', 'time_fit']].astype(int) / 1e9\n",
    "    timing_xgboost.columns = ['data', 'fit']\n",
    "    timing_lightgbm = group_lightgbm[['time_data', 'time_fit']].astype(int) / 1e9\n",
    "    timing_lightgbm.columns = ['data', 'fit']\n",
    "    timing_sklearn = group_sklearn[['time_data', 'time_fit']].astype(int) / 1e9\n",
    "    timing_sklearn.columns = ['data', 'fit']\n",
    "    timing = pd.concat((timing_xgboost, timing_lightgbm, timing_sklearn))\n",
    "    timing.plot.bar(stacked=True, ax=ax, rot=0)\n",
    "    ax.set_title('max depth = {}'.format(i))\n",
    "    ax.set_ylabel('Time (s)')\n",
    "    ax.set_xlabel('')"
   ]
  },
  {
   "cell_type": "code",
   "execution_count": null,
   "metadata": {
    "collapsed": true
   },
   "outputs": [],
   "source": []
  }
 ],
 "metadata": {
  "kernelspec": {
   "display_name": "Python 3",
   "language": "python",
   "name": "python3"
  },
  "language_info": {
   "codemirror_mode": {
    "name": "ipython",
    "version": 3
   },
   "file_extension": ".py",
   "mimetype": "text/x-python",
   "name": "python",
   "nbconvert_exporter": "python",
   "pygments_lexer": "ipython3",
   "version": "3.6.2"
  }
 },
 "nbformat": 4,
 "nbformat_minor": 2
}
